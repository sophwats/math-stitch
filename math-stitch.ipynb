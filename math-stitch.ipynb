{
 "cells": [
  {
   "cell_type": "code",
   "execution_count": null,
   "metadata": {},
   "outputs": [],
   "source": [
    "# Math-Stitch"
   ]
  },
  {
   "cell_type": "code",
   "execution_count": 1,
   "metadata": {},
   "outputs": [],
   "source": [
    "import random\n",
    "\n",
    "class Stitch(object):\n",
    "    def __init__(self, size=100, loc=[[50,50]], prevmove = [0,0]):\n",
    "        # size is the number of points on one side of the square grid\n",
    "        # path is the route taken through the grid\n",
    "        self._size = size\n",
    "        self._prevmove = prevmove\n",
    "        self._loc = loc\n",
    "\n",
    "    def update(self, inc):\n",
    "        newx = self._loc[-1][0]+inc[0]\n",
    "        newy = self._loc[-1][1]+inc[1]\n",
    "        self._loc.append([newx, newy])\n",
    "        return self._loc[-1]\n",
    "    \n",
    "    coords = [[0,1], [1,1], [1,0], [1,-1], [0,-1], [-1,-1], [-1,0], [-1,1]]\n",
    "    \n",
    "    def random_walk(self, steps,  moves=coords):\n",
    "        # step size 1\n",
    "        # none-backtracking random walk\n",
    "        \n",
    "        for ii in range(0,steps):\n",
    "            to_remove = [self._prevmove[0]*-1, self._prevmove[1]*-1]\n",
    "            options = [x for x in moves if x != to_remove]\n",
    "            to_move = random.choice(options)\n",
    "            self._prevmove = to_move\n",
    "            self.update(to_move)\n",
    "        \n",
    "        return self"
   ]
  },
  {
   "cell_type": "code",
   "execution_count": 2,
   "metadata": {},
   "outputs": [],
   "source": [
    "rw_50 = Stitch()"
   ]
  },
  {
   "cell_type": "code",
   "execution_count": 3,
   "metadata": {},
   "outputs": [
    {
     "data": {
      "text/plain": [
       "<__main__.Stitch at 0x109c38518>"
      ]
     },
     "execution_count": 3,
     "metadata": {},
     "output_type": "execute_result"
    }
   ],
   "source": [
    "rw_50.random_walk(steps=50)"
   ]
  },
  {
   "cell_type": "code",
   "execution_count": 4,
   "metadata": {},
   "outputs": [
    {
     "data": {
      "text/plain": [
       "[[50, 50],\n",
       " [49, 49],\n",
       " [48, 49],\n",
       " [48, 48],\n",
       " [48, 47],\n",
       " [49, 47],\n",
       " [49, 46],\n",
       " [49, 45],\n",
       " [50, 46],\n",
       " [51, 45],\n",
       " [52, 44],\n",
       " [53, 45],\n",
       " [52, 45],\n",
       " [53, 46],\n",
       " [54, 47],\n",
       " [55, 48],\n",
       " [55, 47],\n",
       " [54, 46],\n",
       " [53, 47],\n",
       " [52, 47],\n",
       " [53, 46],\n",
       " [53, 45],\n",
       " [52, 46],\n",
       " [53, 47],\n",
       " [53, 48],\n",
       " [52, 47],\n",
       " [52, 48],\n",
       " [53, 48],\n",
       " [53, 47],\n",
       " [54, 48],\n",
       " [54, 47],\n",
       " [55, 47],\n",
       " [55, 48],\n",
       " [54, 48],\n",
       " [55, 47],\n",
       " [54, 47],\n",
       " [55, 46],\n",
       " [54, 45],\n",
       " [53, 45],\n",
       " [52, 45],\n",
       " [53, 46],\n",
       " [54, 45],\n",
       " [55, 44],\n",
       " [56, 44],\n",
       " [57, 45],\n",
       " [56, 46],\n",
       " [55, 46],\n",
       " [54, 46],\n",
       " [54, 45],\n",
       " [55, 45],\n",
       " [56, 46]]"
      ]
     },
     "execution_count": 4,
     "metadata": {},
     "output_type": "execute_result"
    }
   ],
   "source": [
    "rw_50._loc"
   ]
  },
  {
   "cell_type": "code",
   "execution_count": 5,
   "metadata": {},
   "outputs": [
    {
     "data": {
      "text/plain": [
       "list"
      ]
     },
     "execution_count": 5,
     "metadata": {},
     "output_type": "execute_result"
    }
   ],
   "source": [
    "type(rw_50._loc)"
   ]
  },
  {
   "cell_type": "code",
   "execution_count": null,
   "metadata": {},
   "outputs": [],
   "source": []
  }
 ],
 "metadata": {
  "kernelspec": {
   "display_name": "Python 3",
   "language": "python",
   "name": "python3"
  },
  "language_info": {
   "codemirror_mode": {
    "name": "ipython",
    "version": 3
   },
   "file_extension": ".py",
   "mimetype": "text/x-python",
   "name": "python",
   "nbconvert_exporter": "python",
   "pygments_lexer": "ipython3",
   "version": "3.7.3"
  }
 },
 "nbformat": 4,
 "nbformat_minor": 2
}
