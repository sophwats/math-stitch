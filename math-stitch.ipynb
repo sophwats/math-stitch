{
 "cells": [
  {
   "cell_type": "code",
   "execution_count": 1,
   "metadata": {},
   "outputs": [],
   "source": [
    "# Math-Stitch"
   ]
  },
  {
   "cell_type": "code",
   "execution_count": 2,
   "metadata": {},
   "outputs": [],
   "source": [
    "import random\n",
    "import pandas as pd\n",
    "class Stitch(object):\n",
    "    def __init__(self, size=100, loc=[[50,50]], prevmove = [0,0]):\n",
    "        # size is the number of points on one side of the square grid\n",
    "        # path is the route taken through the grid\n",
    "        self._size = size\n",
    "        self._prevmove = prevmove\n",
    "        self._loc = loc\n",
    "\n",
    "    def update(self, inc):\n",
    "        newx = self._loc[-1][0]+inc[0]\n",
    "        newy = self._loc[-1][1]+inc[1]\n",
    "        self._loc.append([newx, newy])\n",
    "        return self._loc[-1]\n",
    "    \n",
    "    def possibilities(self):\n",
    "        # takes in current stitch object\n",
    "        # holding current location and history \n",
    "        # as well as boundary locations\n",
    "        # returns list of all possible visitable locations in one step\n",
    "        # assuming update is of length one. \n",
    "        # if no updates are possible returns NA,NA. stop. \n",
    "        return \n",
    "    \n",
    "    coords = [[0,1], [1,1], [1,0], [1,-1], [0,-1], [-1,-1], [-1,0], [-1,1]]\n",
    "    \n",
    "    def random_walk(self, steps,  moves=coords):\n",
    "        # step size 1\n",
    "        # none-backtracking random walk\n",
    "        \n",
    "        for ii in range(0,steps):\n",
    "            to_remove = [self._prevmove[0]*-1, self._prevmove[1]*-1]\n",
    "            options = [x for x in moves if x != to_remove]\n",
    "            to_move = random.choice(options)\n",
    "            self._prevmove = to_move\n",
    "            self.update(to_move)\n",
    "        \n",
    "        return self"
   ]
  },
  {
   "cell_type": "code",
   "execution_count": 3,
   "metadata": {},
   "outputs": [],
   "source": [
    "rw_50 = Stitch()"
   ]
  },
  {
   "cell_type": "code",
   "execution_count": 4,
   "metadata": {},
   "outputs": [
    {
     "data": {
      "text/plain": [
       "<__main__.Stitch at 0x110e86550>"
      ]
     },
     "execution_count": 4,
     "metadata": {},
     "output_type": "execute_result"
    }
   ],
   "source": [
    "rw_50.random_walk(steps=50)"
   ]
  },
  {
   "cell_type": "code",
   "execution_count": 5,
   "metadata": {},
   "outputs": [
    {
     "data": {
      "text/plain": [
       "RendererRegistry.enable('notebook')"
      ]
     },
     "execution_count": 5,
     "metadata": {},
     "output_type": "execute_result"
    }
   ],
   "source": [
    "import altair as alt\n",
    "from vega_datasets import data\n",
    "alt.renderers.enable('notebook')"
   ]
  },
  {
   "cell_type": "code",
   "execution_count": 6,
   "metadata": {},
   "outputs": [],
   "source": [
    "rw_df = pd.DataFrame(rw_50._loc)"
   ]
  },
  {
   "cell_type": "code",
   "execution_count": 7,
   "metadata": {},
   "outputs": [],
   "source": [
    "rw_df.columns=['x', 'y']\n",
    "rw_df.reset_index(level=0, inplace=True)"
   ]
  },
  {
   "cell_type": "code",
   "execution_count": 8,
   "metadata": {},
   "outputs": [
    {
     "data": {
      "application/javascript": [
       "const spec = {\"config\": {\"view\": {\"width\": 400, \"height\": 300}, \"mark\": {\"tooltip\": null}}, \"data\": {\"name\": \"data-4c4b38309169a94b2b0a7a3195083df8\"}, \"mark\": {\"type\": \"line\", \"point\": true}, \"encoding\": {\"order\": {\"type\": \"quantitative\", \"field\": \"index\"}, \"x\": {\"type\": \"ordinal\", \"field\": \"x\", \"scale\": {\"zero\": false}}, \"y\": {\"type\": \"ordinal\", \"field\": \"y\", \"scale\": {\"zero\": false}}}, \"$schema\": \"https://vega.github.io/schema/vega-lite/v3.4.0.json\", \"datasets\": {\"data-4c4b38309169a94b2b0a7a3195083df8\": [{\"index\": 0, \"x\": 50, \"y\": 50}, {\"index\": 1, \"x\": 49, \"y\": 50}, {\"index\": 2, \"x\": 48, \"y\": 49}, {\"index\": 3, \"x\": 47, \"y\": 49}, {\"index\": 4, \"x\": 48, \"y\": 48}, {\"index\": 5, \"x\": 47, \"y\": 48}, {\"index\": 6, \"x\": 46, \"y\": 49}, {\"index\": 7, \"x\": 45, \"y\": 50}, {\"index\": 8, \"x\": 45, \"y\": 51}, {\"index\": 9, \"x\": 46, \"y\": 50}, {\"index\": 10, \"x\": 46, \"y\": 49}, {\"index\": 11, \"x\": 46, \"y\": 48}, {\"index\": 12, \"x\": 47, \"y\": 49}, {\"index\": 13, \"x\": 48, \"y\": 48}, {\"index\": 14, \"x\": 48, \"y\": 49}, {\"index\": 15, \"x\": 47, \"y\": 48}, {\"index\": 16, \"x\": 48, \"y\": 47}, {\"index\": 17, \"x\": 48, \"y\": 46}, {\"index\": 18, \"x\": 47, \"y\": 46}, {\"index\": 19, \"x\": 46, \"y\": 45}, {\"index\": 20, \"x\": 47, \"y\": 44}, {\"index\": 21, \"x\": 48, \"y\": 45}, {\"index\": 22, \"x\": 49, \"y\": 46}, {\"index\": 23, \"x\": 48, \"y\": 47}, {\"index\": 24, \"x\": 47, \"y\": 46}, {\"index\": 25, \"x\": 48, \"y\": 45}, {\"index\": 26, \"x\": 49, \"y\": 45}, {\"index\": 27, \"x\": 48, \"y\": 44}, {\"index\": 28, \"x\": 48, \"y\": 45}, {\"index\": 29, \"x\": 47, \"y\": 46}, {\"index\": 30, \"x\": 47, \"y\": 47}, {\"index\": 31, \"x\": 47, \"y\": 48}, {\"index\": 32, \"x\": 46, \"y\": 48}, {\"index\": 33, \"x\": 45, \"y\": 48}, {\"index\": 34, \"x\": 44, \"y\": 48}, {\"index\": 35, \"x\": 45, \"y\": 47}, {\"index\": 36, \"x\": 45, \"y\": 46}, {\"index\": 37, \"x\": 45, \"y\": 45}, {\"index\": 38, \"x\": 46, \"y\": 46}, {\"index\": 39, \"x\": 47, \"y\": 47}, {\"index\": 40, \"x\": 48, \"y\": 46}, {\"index\": 41, \"x\": 49, \"y\": 46}, {\"index\": 42, \"x\": 48, \"y\": 45}, {\"index\": 43, \"x\": 48, \"y\": 44}, {\"index\": 44, \"x\": 49, \"y\": 44}, {\"index\": 45, \"x\": 49, \"y\": 43}, {\"index\": 46, \"x\": 48, \"y\": 43}, {\"index\": 47, \"x\": 49, \"y\": 42}, {\"index\": 48, \"x\": 50, \"y\": 41}, {\"index\": 49, \"x\": 51, \"y\": 40}, {\"index\": 50, \"x\": 52, \"y\": 40}]}};\n",
       "const opt = {};\n",
       "const type = \"vega-lite\";\n",
       "const id = \"144fb0a0-311a-4432-8041-a58db46ec462\";\n",
       "\n",
       "const output_area = this;\n",
       "\n",
       "require([\"nbextensions/jupyter-vega/index\"], function(vega) {\n",
       "  const target = document.createElement(\"div\");\n",
       "  target.id = id;\n",
       "  target.className = \"vega-embed\";\n",
       "\n",
       "  const style = document.createElement(\"style\");\n",
       "  style.textContent = [\n",
       "    \".vega-embed .error p {\",\n",
       "    \"  color: firebrick;\",\n",
       "    \"  font-size: 14px;\",\n",
       "    \"}\",\n",
       "  ].join(\"\\\\n\");\n",
       "\n",
       "  // element is a jQuery wrapped DOM element inside the output area\n",
       "  // see http://ipython.readthedocs.io/en/stable/api/generated/\\\n",
       "  // IPython.display.html#IPython.display.Javascript.__init__\n",
       "  element[0].appendChild(target);\n",
       "  element[0].appendChild(style);\n",
       "\n",
       "  vega.render(\"#\" + id, spec, type, opt, output_area);\n",
       "}, function (err) {\n",
       "  if (err.requireType !== \"scripterror\") {\n",
       "    throw(err);\n",
       "  }\n",
       "});\n"
      ],
      "text/plain": [
       "<vega.vegalite.VegaLite at 0x12102ed68>"
      ]
     },
     "metadata": {
      "jupyter-vega": "#144fb0a0-311a-4432-8041-a58db46ec462"
     },
     "output_type": "display_data"
    },
    {
     "data": {
      "text/plain": []
     },
     "execution_count": 8,
     "metadata": {},
     "output_type": "execute_result"
    },
    {
     "data": {
      "image/png": "[encoded data removed]"
     },
     "metadata": {
      "jupyter-vega": "#144fb0a0-311a-4432-8041-a58db46ec462"
     },
     "output_type": "display_data"
    }
   ],
   "source": [
    "alt.Chart(pd.DataFrame(rw_df)).mark_line(point=True).encode(\n",
    "    alt.X('x:O', scale=alt.Scale(zero=False)), alt.Y('y:O',scale=alt.Scale(zero=False)), order ='index' )\n",
    "\n"
   ]
  },
  {
   "cell_type": "code",
   "execution_count": null,
   "metadata": {},
   "outputs": [],
   "source": [
    "1. it's going back to points we already visited. "
   ]
  }
 ],
 "metadata": {
  "kernelspec": {
   "display_name": "Python 3",
   "language": "python",
   "name": "python3"
  },
  "language_info": {
   "codemirror_mode": {
    "name": "ipython",
    "version": 3
   },
   "file_extension": ".py",
   "mimetype": "text/x-python",
   "name": "python",
   "nbconvert_exporter": "python",
   "pygments_lexer": "ipython3",
   "version": "3.7.3"
  }
 },
 "nbformat": 4,
 "nbformat_minor": 2
}
